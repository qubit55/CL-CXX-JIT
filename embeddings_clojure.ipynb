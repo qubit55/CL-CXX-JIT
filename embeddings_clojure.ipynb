{
  "nbformat": 4,
  "nbformat_minor": 0,
  "metadata": {
    "colab": {
      "provenance": [],
      "authorship_tag": "ABX9TyP7yX759ZBiovUJy2LMb8h3",
      "include_colab_link": true
    },
    "kernelspec": {
      "name": "clojupyter-0.5.424-snapshot424",
      "display_name": "Clojure IPC"
    }
  },
  "cells": [
    {
      "cell_type": "markdown",
      "metadata": {
        "id": "view-in-github",
        "colab_type": "text"
      },
      "source": [
        "<a href=\"https://colab.research.google.com/github/qubit55/CL-CXX-JIT/blob/main/embeddings_clojure.ipynb\" target=\"_parent\"><img src=\"https://colab.research.google.com/assets/colab-badge.svg\" alt=\"Open In Colab\"/></a>"
      ]
    },
    {
      "cell_type": "markdown",
      "source": [
        "# First install Clojupyter kernel"
      ],
      "metadata": {
        "id": "OKMKf_ok9rQt"
      }
    },
    {
      "cell_type": "code",
      "execution_count": 1,
      "metadata": {
        "colab": {
          "base_uri": "https://localhost:8080/"
        },
        "id": "fhzq6k0ZcjlR",
        "outputId": "3ea30eb2-3291-4b48-b8d3-9d1d0ef1fb24",
        "collapsed": true
      },
      "outputs": [
        {
          "output_type": "stream",
          "name": "stdout",
          "text": [
            "--2025-03-01 23:07:27--  https://raw.githubusercontent.com/qubit55/clojupyter_colab_setup/refs/heads/main/install_clojure_kernel.sh\n",
            "Resolving raw.githubusercontent.com (raw.githubusercontent.com)... 185.199.108.133, 185.199.109.133, 185.199.110.133, ...\n",
            "Connecting to raw.githubusercontent.com (raw.githubusercontent.com)|185.199.108.133|:443... connected.\n",
            "HTTP request sent, awaiting response... 200 OK\n",
            "Length: 1698 (1.7K) [text/plain]\n",
            "Saving to: ‘install_clojure_kernel.sh’\n",
            "\n",
            "install_clojure_ker 100%[===================>]   1.66K  --.-KB/s    in 0s      \n",
            "\n",
            "2025-03-01 23:07:27 (31.1 MB/s) - ‘install_clojure_kernel.sh’ saved [1698/1698]\n",
            "\n",
            "Collecting install-jdk\n",
            "  Downloading install_jdk-1.1.0-py3-none-any.whl.metadata (12 kB)\n",
            "Downloading install_jdk-1.1.0-py3-none-any.whl (15 kB)\n",
            "Installing collected packages: install-jdk\n",
            "Successfully installed install-jdk-1.1.0\n",
            "JAVA_HOME is set to: /root/.jdk/jdk-21.0.6+7\n",
            "openjdk version \"21.0.6\" 2025-01-21 LTS\n",
            "OpenJDK Runtime Environment Temurin-21.0.6+7 (build 21.0.6+7-LTS)\n",
            "OpenJDK 64-Bit Server VM Temurin-21.0.6+7 (build 21.0.6+7-LTS, mixed mode, sharing)\n",
            "  % Total    % Received % Xferd  Average Speed   Time    Time     Time  Current\n",
            "                                 Dload  Upload   Total   Spent    Left  Speed\n",
            "  0     0    0     0    0     0      0      0 --:--:-- --:--:-- --:--:--     0\n",
            "100 74.1M  100 74.1M    0     0  42.3M      0  0:00:01  0:00:01 --:--:-- 51.2M\n",
            "Clojupyter v0.5.424-SNAPSHOT@424 - Install local\n",
            "\n",
            "    Installed jar:\t/content/clojupyter-0.5.424-SNAPSHOT-standalone.jar\n",
            "    Install directory:\t~/.local/share/jupyter/kernels/clojupyter-0.5.424-snapshot424\n",
            "    Kernel identifier:\tclojupyter-0.5.424-snapshot424\n",
            "    \n",
            "    Installation successful.\n",
            "\n",
            "exit(0)\n",
            "Clojupyter v0.5.424-SNAPSHOT@424 - All Clojupyter kernels\n",
            "\n",
            "    |                          IDENT |                                                           DIR |\n",
            "    |--------------------------------+---------------------------------------------------------------|\n",
            "    | clojupyter-0.5.424-snapshot424 | ~/.local/share/jupyter/kernels/clojupyter-0.5.424-snapshot424 |\n",
            "\n",
            "exit(0)\n",
            "e2732061ad19c1afa4a33a58cb8f18a9-b6cff2bf09b6832344e576ea1e4731f0fb3df10c/install_ipc_proxy_kernel.py\n",
            "e2732061ad19c1afa4a33a58cb8f18a9-b6cff2bf09b6832344e576ea1e4731f0fb3df10c/ipc_proxy_kernel.py\n",
            "Moving clojupyter-0.5.424-snapshot424 kernel from /root/.local/share/jupyter/kernels/clojupyter-0.5.424-snapshot424...\n",
            "Wrote modified kernel.json for clojupyter-0.5.424-snapshot424_tcp in /root/.local/share/jupyter/kernels/clojupyter-0.5.424-snapshot424_tcp/kernel.json\n",
            "Installing the proxy kernel in place of clojupyter-0.5.424-snapshot424 in /root/.local/share/jupyter/kernels/clojupyter-0.5.424-snapshot424\n",
            "Installed proxy kernelspec: {\"argv\": [\"/usr/bin/python3\", \"/root/.local/share/jupyter/kernels/clojupyter-0.5.424-snapshot424/ipc_proxy_kernel.py\", \"{connection_file}\", \"--kernel=clojupyter-0.5.424-snapshot424_tcp\"], \"env\": {}, \"display_name\": \"Clojure (clojupyter-0.5.424-snapshot424)\", \"language\": \"clojure\", \"interrupt_mode\": \"message\", \"metadata\": {}}\n",
            "Proxy kernel installed. Go to 'Runtime > Change runtime type' and select 'java'\n",
            "Reading package lists... Done\n",
            "Building dependency tree... Done\n",
            "Reading state information... Done\n",
            "The following additional packages will be installed:\n",
            "  libjq1 libonig5\n",
            "The following NEW packages will be installed:\n",
            "  jq libjq1 libonig5\n",
            "0 upgraded, 3 newly installed, 0 to remove and 29 not upgraded.\n",
            "Need to get 357 kB of archives.\n",
            "After this operation, 1,087 kB of additional disk space will be used.\n",
            "Get:1 http://archive.ubuntu.com/ubuntu jammy/main amd64 libonig5 amd64 6.9.7.1-2build1 [172 kB]\n",
            "Get:2 http://archive.ubuntu.com/ubuntu jammy/main amd64 libjq1 amd64 1.6-2.1ubuntu3 [133 kB]\n",
            "Get:3 http://archive.ubuntu.com/ubuntu jammy/main amd64 jq amd64 1.6-2.1ubuntu3 [52.5 kB]\n",
            "Fetched 357 kB in 0s (1,336 kB/s)\n",
            "Selecting previously unselected package libonig5:amd64.\n",
            "(Reading database ... 124947 files and directories currently installed.)\n",
            "Preparing to unpack .../libonig5_6.9.7.1-2build1_amd64.deb ...\n",
            "Unpacking libonig5:amd64 (6.9.7.1-2build1) ...\n",
            "Selecting previously unselected package libjq1:amd64.\n",
            "Preparing to unpack .../libjq1_1.6-2.1ubuntu3_amd64.deb ...\n",
            "Unpacking libjq1:amd64 (1.6-2.1ubuntu3) ...\n",
            "Selecting previously unselected package jq.\n",
            "Preparing to unpack .../jq_1.6-2.1ubuntu3_amd64.deb ...\n",
            "Unpacking jq (1.6-2.1ubuntu3) ...\n",
            "Setting up libonig5:amd64 (6.9.7.1-2build1) ...\n",
            "Setting up libjq1:amd64 (1.6-2.1ubuntu3) ...\n",
            "Setting up jq (1.6-2.1ubuntu3) ...\n",
            "Processing triggers for man-db (2.10.2-1) ...\n",
            "Processing triggers for libc-bin (2.35-0ubuntu3.8) ...\n",
            "/sbin/ldconfig.real: /usr/local/lib/libtbbmalloc_proxy.so.2 is not a symbolic link\n",
            "\n",
            "/sbin/ldconfig.real: /usr/local/lib/libtbbbind.so.3 is not a symbolic link\n",
            "\n",
            "/sbin/ldconfig.real: /usr/local/lib/libur_adapter_level_zero.so.0 is not a symbolic link\n",
            "\n",
            "/sbin/ldconfig.real: /usr/local/lib/libtbbbind_2_5.so.3 is not a symbolic link\n",
            "\n",
            "/sbin/ldconfig.real: /usr/local/lib/libtbbmalloc.so.2 is not a symbolic link\n",
            "\n",
            "/sbin/ldconfig.real: /usr/local/lib/libur_loader.so.0 is not a symbolic link\n",
            "\n",
            "/sbin/ldconfig.real: /usr/local/lib/libumf.so.0 is not a symbolic link\n",
            "\n",
            "/sbin/ldconfig.real: /usr/local/lib/libtbbbind_2_0.so.3 is not a symbolic link\n",
            "\n",
            "/sbin/ldconfig.real: /usr/local/lib/libhwloc.so.15 is not a symbolic link\n",
            "\n",
            "/sbin/ldconfig.real: /usr/local/lib/libtcm_debug.so.1 is not a symbolic link\n",
            "\n",
            "/sbin/ldconfig.real: /usr/local/lib/libur_adapter_opencl.so.0 is not a symbolic link\n",
            "\n",
            "/sbin/ldconfig.real: /usr/local/lib/libtbb.so.12 is not a symbolic link\n",
            "\n",
            "/sbin/ldconfig.real: /usr/local/lib/libtcm.so.1 is not a symbolic link\n",
            "\n",
            "total 20\n",
            "drwxr-xr-x 4 root root 4096 Mar  1 23:07 .\n",
            "drwx------ 1 root root 4096 Mar  1 23:07 ..\n",
            "drwxr-xr-x 2 root root 4096 Mar  1 23:08 clojupyter-0.5.424-snapshot424\n",
            "drwxr-xr-x 2 root root 4096 Mar  1 23:07 clojupyter-0.5.424-snapshot424_tcp\n",
            "{\n",
            "  \"argv\": [\n",
            "    \"/usr/bin/python3\",\n",
            "    \"/root/.local/share/jupyter/kernels/clojupyter-0.5.424-snapshot424/ipc_proxy_kernel.py\",\n",
            "    \"{connection_file}\",\n",
            "    \"--kernel=clojupyter-0.5.424-snapshot424_tcp\"\n",
            "  ],\n",
            "  \"env\": {},\n",
            "  \"display_name\": \"Clojure IPC\",\n",
            "  \"language\": \"clojure\",\n",
            "  \"interrupt_mode\": \"message\",\n",
            "  \"metadata\": {}\n",
            "}\n",
            "Clojure kernel setup complete.\n"
          ]
        }
      ],
      "source": [
        "!wget https://raw.githubusercontent.com/qubit55/clojupyter_colab_setup/refs/heads/main/install_clojure_kernel.sh\n",
        "!chmod +x install_clojure_kernel.sh\n",
        "!./install_clojure_kernel.sh"
      ]
    },
    {
      "cell_type": "markdown",
      "source": [
        "# Once the installation of Clojupyter is complete\n",
        "\n",
        "* Go to Runtime -> Change runtime type.\n",
        "* In the \"Runtime type\" dropdown, select Clojure IPC.\n",
        "* Wait for the kernel to initialize. The RAM and disk usage chart in the upper-right corner will confirm when it’s ready.\n",
        "* Now you can start executing the cells down below"
      ],
      "metadata": {
        "id": "7DFm865r9hVS"
      }
    },
    {
      "cell_type": "code",
      "source": [
        "(require '[clojupyter.misc.helper :as helper]\n",
        "         '[clojupyter.display :as display])\n",
        "\n",
        "(helper/add-dependencies '[com.knuddels/jtokkit \"1.1.0\"])\n",
        "(helper/add-dependencies '[criterium \"0.4.6\"])\n",
        "(helper/add-dependencies '[uncomplicate/deep-diamond \"0.31.0\"])\n",
        "(helper/add-dependencies '[uncomplicate/neanderthal \"0.53.2\"])\n",
        "(helper/add-dependencies '[uncomplicate/fluokitten \"0.10.0\"])"
      ],
      "metadata": {
        "id": "Bbb0q86icmzj",
        "colab": {
          "base_uri": "https://localhost:8080/",
          "height": 410
        },
        "outputId": "56d81b04-9f87-4612-ae11-13534d1c5e18",
        "collapsed": true
      },
      "execution_count": 1,
      "outputs": [
        {
          "output_type": "execute_result",
          "data": {
            "text/html": [
              "<div class=\"kind-map\"><div style=\"border:1px solid grey;padding:2px;\"><div class=\"kind-vector\"><div style=\"border:1px solid grey;padding:2px;\">uncomplicate/fluokitten</div><div style=\"border:1px solid grey;padding:2px;\">0.10.0</div></div></div><div style=\"border:1px solid grey;padding:2px;\"><div class=\"kind-set\"><div style=\"border:1px solid grey;padding:2px;\"><div class=\"kind-vector\"><div style=\"border:1px solid grey;padding:2px;\">org.clojure/clojure</div><div style=\"border:1px solid grey;padding:2px;\">1.11.3</div></div></div></div></div><div style=\"border:1px solid grey;padding:2px;\"><div class=\"kind-vector\"><div style=\"border:1px solid grey;padding:2px;\">org.clojure/clojure</div><div style=\"border:1px solid grey;padding:2px;\">1.11.3</div></div></div><div style=\"border:1px solid grey;padding:2px;\"><div class=\"kind-set\"><div style=\"border:1px solid grey;padding:2px;\"><div class=\"kind-vector\"><div style=\"border:1px solid grey;padding:2px;\">org.clojure/core.specs.alpha</div><div style=\"border:1px solid grey;padding:2px;\">0.2.62</div></div></div><div style=\"border:1px solid grey;padding:2px;\"><div class=\"kind-vector\"><div style=\"border:1px solid grey;padding:2px;\">org.clojure/spec.alpha</div><div style=\"border:1px solid grey;padding:2px;\">0.3.218</div></div></div></div></div><div style=\"border:1px solid grey;padding:2px;\"><div class=\"kind-vector\"><div style=\"border:1px solid grey;padding:2px;\">org.clojure/spec.alpha</div><div style=\"border:1px solid grey;padding:2px;\">0.3.218</div></div></div><div style=\"border:1px solid grey;padding:2px;\"></div><div style=\"border:1px solid grey;padding:2px;\"><div class=\"kind-vector\"><div style=\"border:1px solid grey;padding:2px;\">org.clojure/core.specs.alpha</div><div style=\"border:1px solid grey;padding:2px;\">0.2.62</div></div></div><div style=\"border:1px solid grey;padding:2px;\"></div></div>"
            ]
          },
          "metadata": {},
          "execution_count": 1
        }
      ]
    },
    {
      "cell_type": "code",
      "source": [
        "(import '[com.knuddels.jtokkit Encodings]\n",
        "        '[com.knuddels.jtokkit.api EncodingType IntArrayList])\n",
        "\n",
        "(require '[clojure.repl :refer [doc]]\n",
        "         '[criterium.core :refer [quick-bench]]\n",
        "         '[uncomplicate.fluokitten.core :refer [fmap!]]\n",
        "         '[uncomplicate.commons.core :refer [with-release]]\n",
        "         '[uncomplicate.neanderthal\n",
        "           [native :refer [dv dge fge dv fv iv]]\n",
        "           [core :refer [mv! dim entry row rows col cols submatrix subvector ncols mrows transfer! transfer]]\n",
        "           [random :refer [rand-uniform!]]])"
      ],
      "metadata": {
        "id": "aw33E8-qcye8",
        "colab": {
          "base_uri": "https://localhost:8080/"
        },
        "outputId": "82b609aa-cce0-45f5-8b0e-e66611279328"
      },
      "execution_count": 3,
      "outputs": [
        {
          "output_type": "execute_result",
          "data": {
            "text/plain": [
              "nil"
            ]
          },
          "metadata": {},
          "execution_count": 3
        }
      ]
    },
    {
      "cell_type": "code",
      "source": [
        "(def emb-mat (fge 50000 1000))\n",
        "(rand-uniform! emb-mat)"
      ],
      "metadata": {
        "colab": {
          "base_uri": "https://localhost:8080/",
          "height": 34
        },
        "id": "mFNH1-Bjor8C",
        "outputId": "55f6f9d3-692d-4cfd-c184-17fa0df3cd15"
      },
      "execution_count": 6,
      "outputs": [
        {
          "output_type": "execute_result",
          "data": {
            "text/html": [
              "#RealGEMatrix[float, mxn:50000x1000, layout:column]"
            ]
          },
          "metadata": {},
          "execution_count": 6
        }
      ]
    },
    {
      "cell_type": "code",
      "source": [
        "(quick-bench (rand-uniform! emb-mat))"
      ],
      "metadata": {
        "colab": {
          "base_uri": "https://localhost:8080/"
        },
        "id": "tq6PP7dZsD-w",
        "outputId": "a4d9e726-d0cd-44e2-d3c3-1aca43b51b2e"
      },
      "execution_count": 7,
      "outputs": [
        {
          "output_type": "stream",
          "name": "stdout",
          "text": [
            "Evaluation count : 24 in 6 samples of 4 calls.\n",
            "             Execution time mean : 28.044564 ms\n",
            "    Execution time std-deviation : 802.331046 µs\n",
            "   Execution time lower quantile : 27.473189 ms ( 2.5%)\n",
            "   Execution time upper quantile : 29.398645 ms (97.5%)\n",
            "                   Overhead used : 10.206787 ns\n",
            "\n",
            "Found 1 outliers in 6 samples (16.6667 %)\n",
            "\tlow-severe\t 1 (16.6667 %)\n",
            " Variance from outliers : 13.8889 % Variance is moderately inflated by outliers\n"
          ]
        },
        {
          "output_type": "execute_result",
          "data": {
            "text/plain": [
              "nil"
            ]
          },
          "metadata": {},
          "execution_count": 7
        }
      ]
    },
    {
      "cell_type": "code",
      "source": [
        "(quick-bench (row emb-mat 100))"
      ],
      "metadata": {
        "colab": {
          "base_uri": "https://localhost:8080/"
        },
        "id": "w-GAHTBD41oK",
        "outputId": "fbd9b11f-13ca-4f09-ae62-5abb684d1416"
      },
      "execution_count": 8,
      "outputs": [
        {
          "output_type": "stream",
          "name": "stdout",
          "text": [
            "Evaluation count : 1197708 in 6 samples of 199618 calls.\n",
            "             Execution time mean : 592.388508 ns\n",
            "    Execution time std-deviation : 183.734154 ns\n",
            "   Execution time lower quantile : 461.061037 ns ( 2.5%)\n",
            "   Execution time upper quantile : 810.194359 ns (97.5%)\n",
            "                   Overhead used : 10.206787 ns\n"
          ]
        },
        {
          "output_type": "execute_result",
          "data": {
            "text/plain": [
              "nil"
            ]
          },
          "metadata": {},
          "execution_count": 8
        }
      ]
    },
    {
      "cell_type": "code",
      "source": [
        "(defn pluck-embeddings\n",
        " [tok-ids emb-mat]\n",
        " (let\n",
        "  [emb-mat-subset (fge (count tok-ids) (ncols emb-mat))]\n",
        "  (loop [i 0 tok-id tok-ids]\n",
        "   (if (< i (mrows emb-mat-subset))\n",
        "    (do\n",
        "      (transfer! (row emb-mat (first tok-id)) (row emb-mat-subset i))\n",
        "      (recur (inc i) (rest tok-id)))))\n",
        "   emb-mat-subset))"
      ],
      "metadata": {
        "colab": {
          "base_uri": "https://localhost:8080/"
        },
        "id": "v75WD6d-eIfB",
        "outputId": "2fb1e84a-2adf-41c7-c114-a4cc38681805"
      },
      "execution_count": 9,
      "outputs": [
        {
          "output_type": "execute_result",
          "data": {
            "text/plain": [
              "#'user/pluck-embeddings"
            ]
          },
          "metadata": {},
          "execution_count": 9
        }
      ]
    },
    {
      "cell_type": "code",
      "source": [
        "(quick-bench (pluck-embeddings [20 100] emb-mat))"
      ],
      "metadata": {
        "colab": {
          "base_uri": "https://localhost:8080/"
        },
        "id": "RNPCczI-iYwv",
        "outputId": "ecbd0ad0-f4b4-409a-9dbe-a4faeb623ff6"
      },
      "execution_count": null,
      "outputs": [
        {
          "output_type": "stream",
          "name": "stdout",
          "text": [
            "Evaluation count : 84 in 6 samples of 14 calls.\n",
            "             Execution time mean : 21.472114 ms\n",
            "    Execution time std-deviation : 5.085178 ms\n",
            "   Execution time lower quantile : 15.868418 ms ( 2.5%)\n",
            "   Execution time upper quantile : 26.695136 ms (97.5%)\n",
            "                   Overhead used : 12.070230 ns\n"
          ]
        },
        {
          "output_type": "execute_result",
          "data": {
            "text/plain": [
              "nil"
            ]
          },
          "metadata": {},
          "execution_count": 68
        }
      ]
    },
    {
      "cell_type": "code",
      "source": [
        "(quick-bench (row emb-mat 100))"
      ],
      "metadata": {
        "colab": {
          "base_uri": "https://localhost:8080/"
        },
        "id": "Aip3gtMI7sCk",
        "outputId": "be957121-0a3c-4f8d-c472-22c1ad878ce5"
      },
      "execution_count": null,
      "outputs": [
        {
          "output_type": "stream",
          "name": "stdout",
          "text": [
            "Evaluation count : 1337718 in 6 samples of 222953 calls.\n",
            "             Execution time mean : 721.712860 ns\n",
            "    Execution time std-deviation : 198.659871 ns\n",
            "   Execution time lower quantile : 440.552726 ns ( 2.5%)\n",
            "   Execution time upper quantile : 939.877270 ns (97.5%)\n",
            "                   Overhead used : 12.070230 ns\n"
          ]
        },
        {
          "output_type": "execute_result",
          "data": {
            "text/plain": [
              "nil"
            ]
          },
          "metadata": {},
          "execution_count": 69
        }
      ]
    }
  ]
}